{
 "cells": [
  {
   "cell_type": "code",
   "execution_count": 1,
   "metadata": {},
   "outputs": [],
   "source": [
    "# import libraries\n",
    "import numpy as np\n",
    "import pandas as pd\n",
    "pd.set_option('display.max_rows', 50)\n",
    "pd.set_option('display.max_columns', 500)\n",
    "pd.set_option('display.width', 1000)\n",
    "pd.set_option('max_colwidth', None)\n",
    "pd.set_option('display.float_format', lambda x: '%.5f' % x)\n",
    "import os\n",
    "from tqdm import tqdm"
   ]
  },
  {
   "cell_type": "markdown",
   "metadata": {},
   "source": [
    "## Read sample data"
   ]
  },
  {
   "cell_type": "code",
   "execution_count": 2,
   "metadata": {},
   "outputs": [],
   "source": [
    "# read sample data\n",
    "# block\n",
    "# df_block = pd.read_csv('.\\\\data\\\\sample\\\\blocks.csv', header=None)\n",
    "# df_block.columns = ['block_id','block_hash','merkel_route','prev_block_hash','block_minted_time','unknown1','unknown2']\n",
    "\n",
    "# transaction\n",
    "#df_transaction = pd.read_csv('.\\\\data\\\\sample\\\\transactions.csv', header=None)\n",
    "#df_transaction.columns = ['transaction_hash','unknown1','unknown2','unknown3','block_hash','coinbase_flag','unknonw4']\n",
    "\n",
    "# input\n",
    "#df_input = pd.read_csv('.\\\\data\\\\sample\\\\input.csv', header=None)\n",
    "#df_input.columns = ['input id','input_seq','transaction_hash','signature','unknown1','input_address'] # missing a couple of things in the sample (amount)\n",
    "\n",
    "# output\n",
    "#df_output = pd.read_csv('.\\\\data\\\\sample\\\\output.csv', header=None)\n",
    "#df_output.columns = ['transaction id','output_seq','amount_satoshis','address','transaction_hash']\n",
    "\n",
    "# entities\n",
    "#df_entities = pd.read_json('.\\\\data\\\\sample\\\\entities.json')\n"
   ]
  },
  {
   "cell_type": "markdown",
   "metadata": {},
   "source": [
    "## Full data\n",
    "### Read data"
   ]
  },
  {
   "cell_type": "code",
   "execution_count": 3,
   "metadata": {},
   "outputs": [
    {
     "data": {
      "text/plain": [
       "\"\\nblock_folders = [(path+x, x) for x in os.listdir(path)]\\n\\nblock_columns = ['block_id','block_hash','merkel_route','prev_block_hash','block_minted_time','unknown1','unknown2']\\ntransaction_columns = ['transaction_hash','unknown1','unknown2','unknown3','block_hash','coinbase_flag','unknonw4']\\ninput_columns = ['input id','input_seq','transaction_hash','signature','unknown1','input_address','amount_satoshis']\\noutput_columns = ['transaction_id','output_seq','amount_satoshis','address','transaction_hash']\\n\\ndf_block = pd.DataFrame(columns=block_columns)\\ndf_transaction = pd.DataFrame(columns=transaction_columns)\\ndf_input = pd.DataFrame(columns=input_columns)\\ndf_output = pd.DataFrame(columns=output_columns)\\n\\ndf_block = pd.concat([pd.read_csv(f[0]+'\\\\blocks.csv',header=None, names=block_columns) for f in block_folders])\\ndf_transaction = pd.concat([pd.read_csv(f[0]+'\\\\transactions.csv', header=None, names=transaction_columns) for f in block_folders])\\ndf_input = pd.concat([pd.read_csv(f[0]+'\\\\input.csv', header=None, names=input_columns) for f in block_folders])\\ndf_output = pd.concat([pd.read_csv(f[0]+'\\\\output.csv', header=None, names=output_columns) for f in block_folders])\\n\\ndf_block.to_pickle('full_block.pkl')\\ndf_transaction.to_pickle('full_transaction.pkl')\\ndf_input.to_pickle('full_input.pkl')\\ndf_output.to_pickle('full_output.pkl')\\n\""
      ]
     },
     "execution_count": 3,
     "metadata": {},
     "output_type": "execute_result"
    }
   ],
   "source": [
    "# set path\n",
    "path = '.\\\\gitrepos\\\\bse_clovrlabs_btc_fraud\\\\data\\\\spiderbum-blockchain-upf\\\\'\n",
    "\n",
    "#read block files\n",
    "\n",
    "'''\n",
    "block_folders = [(path+x, x) for x in os.listdir(path)]\n",
    "\n",
    "block_columns = ['block_id','block_hash','merkel_route','prev_block_hash','block_minted_time','unknown1','unknown2']\n",
    "transaction_columns = ['transaction_hash','unknown1','unknown2','unknown3','block_hash','coinbase_flag','unknonw4']\n",
    "input_columns = ['input id','input_seq','transaction_hash','signature','unknown1','input_address','amount_satoshis']\n",
    "output_columns = ['transaction_id','output_seq','amount_satoshis','address','transaction_hash']\n",
    "\n",
    "df_block = pd.DataFrame(columns=block_columns)\n",
    "df_transaction = pd.DataFrame(columns=transaction_columns)\n",
    "df_input = pd.DataFrame(columns=input_columns)\n",
    "df_output = pd.DataFrame(columns=output_columns)\n",
    "\n",
    "df_block = pd.concat([pd.read_csv(f[0]+'\\\\blocks.csv',header=None, names=block_columns) for f in block_folders])\n",
    "df_transaction = pd.concat([pd.read_csv(f[0]+'\\\\transactions.csv', header=None, names=transaction_columns) for f in block_folders])\n",
    "df_input = pd.concat([pd.read_csv(f[0]+'\\\\input.csv', header=None, names=input_columns) for f in block_folders])\n",
    "df_output = pd.concat([pd.read_csv(f[0]+'\\\\output.csv', header=None, names=output_columns) for f in block_folders])\n",
    "\n",
    "df_block.to_pickle('full_block.pkl')\n",
    "df_transaction.to_pickle('full_transaction.pkl')\n",
    "df_input.to_pickle('full_input.pkl')\n",
    "df_output.to_pickle('full_output.pkl')\n",
    "'''\n"
   ]
  },
  {
   "cell_type": "code",
   "execution_count": 4,
   "metadata": {},
   "outputs": [],
   "source": [
    "# Read block, txn, input and output source pkl files\n",
    "df_block = pd.read_pickle('.\\\\data\\\\full_block.pkl')\n",
    "df_transaction = pd.read_pickle('.\\\\data\\\\full_transaction.pkl')\n",
    "df_input = pd.read_pickle('.\\\\data\\\\full_input.pkl')\n",
    "df_output = pd.read_pickle('.\\\\data\\\\full_output.pkl')\n",
    "\n",
    "# Read etities\n",
    "df_entities = pd.read_json('.\\\\data\\\\entities.json')\n",
    "#df_entities.to_csv('entities.csv')"
   ]
  },
  {
   "cell_type": "code",
   "execution_count": 5,
   "metadata": {},
   "outputs": [],
   "source": [
    "# add block data to txn data\n",
    "df_transaction = df_transaction.merge(df_block[['block_id','block_hash','block_minted_time']], on=['block_hash'], how='left')\n",
    "\n",
    "# add input and output data to txn data\n",
    "merged = df_transaction[:10].merge(df_input, left_on='transaction_hash', right_on='transaction_hash',how='left', suffixes=('','_in'))\n",
    "merged = merged.merge(df_output, left_on='transaction_hash', right_on='transaction_hash',how='left', suffixes=('','_out'))\n",
    "merged.rename(columns = {'address':'output_address','amount_satoshis':'amount_satoshis_in'}, inplace=True)"
   ]
  },
  {
   "cell_type": "markdown",
   "metadata": {},
   "source": [
    "## Test pannel re-creation"
   ]
  },
  {
   "cell_type": "code",
   "execution_count": 6,
   "metadata": {},
   "outputs": [
    {
     "data": {
      "text/html": [
       "<div>\n",
       "<style scoped>\n",
       "    .dataframe tbody tr th:only-of-type {\n",
       "        vertical-align: middle;\n",
       "    }\n",
       "\n",
       "    .dataframe tbody tr th {\n",
       "        vertical-align: top;\n",
       "    }\n",
       "\n",
       "    .dataframe thead th {\n",
       "        text-align: right;\n",
       "    }\n",
       "</style>\n",
       "<table border=\"1\" class=\"dataframe\">\n",
       "  <thead>\n",
       "    <tr style=\"text-align: right;\">\n",
       "      <th></th>\n",
       "      <th>transaction_hash</th>\n",
       "      <th>block_id</th>\n",
       "      <th>input_address</th>\n",
       "      <th>output_address</th>\n",
       "      <th>amount_spread_out</th>\n",
       "      <th>fee</th>\n",
       "      <th>fee_spread</th>\n",
       "    </tr>\n",
       "  </thead>\n",
       "  <tbody>\n",
       "    <tr>\n",
       "      <th>0</th>\n",
       "      <td>8c852e187a0541cd8ea8c93a6c728843b5f8b9c579b6fc42d51ac03ed25f18e9</td>\n",
       "      <td>453318</td>\n",
       "      <td>166zajP74bcRVo7BmdeDME3mRX3Mi9e3xn</td>\n",
       "      <td>1ASaHGPN8qRuqZkpnR7d2tcndU9uHL6aGj</td>\n",
       "      <td>2503.64769</td>\n",
       "      <td>1386.37676</td>\n",
       "      <td>3.31484</td>\n",
       "    </tr>\n",
       "    <tr>\n",
       "      <th>1</th>\n",
       "      <td>8c852e187a0541cd8ea8c93a6c728843b5f8b9c579b6fc42d51ac03ed25f18e9</td>\n",
       "      <td>453318</td>\n",
       "      <td>1LU3DtRE3XK32WxFqrnaT9k99nRgwHtLHd</td>\n",
       "      <td>1ASaHGPN8qRuqZkpnR7d2tcndU9uHL6aGj</td>\n",
       "      <td>635940.18056</td>\n",
       "      <td>352147.26556</td>\n",
       "      <td>841.98860</td>\n",
       "    </tr>\n",
       "    <tr>\n",
       "      <th>2</th>\n",
       "      <td>8c852e187a0541cd8ea8c93a6c728843b5f8b9c579b6fc42d51ac03ed25f18e9</td>\n",
       "      <td>453318</td>\n",
       "      <td>1HVQNFf7vDpJVZk7tEzbFxnmALSezA2qPD</td>\n",
       "      <td>1ASaHGPN8qRuqZkpnR7d2tcndU9uHL6aGj</td>\n",
       "      <td>590236.94681</td>\n",
       "      <td>326839.43114</td>\n",
       "      <td>781.47725</td>\n",
       "    </tr>\n",
       "    <tr>\n",
       "      <th>3</th>\n",
       "      <td>8c852e187a0541cd8ea8c93a6c728843b5f8b9c579b6fc42d51ac03ed25f18e9</td>\n",
       "      <td>453318</td>\n",
       "      <td>1LU3DtRE3XK32WxFqrnaT9k99nRgwHtLHd</td>\n",
       "      <td>1ASaHGPN8qRuqZkpnR7d2tcndU9uHL6aGj</td>\n",
       "      <td>101303.22495</td>\n",
       "      <td>56095.92655</td>\n",
       "      <td>134.12608</td>\n",
       "    </tr>\n",
       "    <tr>\n",
       "      <th>4</th>\n",
       "      <td>8c852e187a0541cd8ea8c93a6c728843b5f8b9c579b6fc42d51ac03ed25f18e9</td>\n",
       "      <td>453318</td>\n",
       "      <td>166zajP74bcRVo7BmdeDME3mRX3Mi9e3xn</td>\n",
       "      <td>1FaWBBGDL4WxTQZJEcPJbnfRWSWZRshyyd</td>\n",
       "      <td>1044603.97555</td>\n",
       "      <td>1386.37676</td>\n",
       "      <td>1383.06192</td>\n",
       "    </tr>\n",
       "    <tr>\n",
       "      <th>5</th>\n",
       "      <td>8c852e187a0541cd8ea8c93a6c728843b5f8b9c579b6fc42d51ac03ed25f18e9</td>\n",
       "      <td>453318</td>\n",
       "      <td>1LU3DtRE3XK32WxFqrnaT9k99nRgwHtLHd</td>\n",
       "      <td>1FaWBBGDL4WxTQZJEcPJbnfRWSWZRshyyd</td>\n",
       "      <td>265335112.55389</td>\n",
       "      <td>352147.26556</td>\n",
       "      <td>351305.27695</td>\n",
       "    </tr>\n",
       "    <tr>\n",
       "      <th>6</th>\n",
       "      <td>8c852e187a0541cd8ea8c93a6c728843b5f8b9c579b6fc42d51ac03ed25f18e9</td>\n",
       "      <td>453318</td>\n",
       "      <td>1HVQNFf7vDpJVZk7tEzbFxnmALSezA2qPD</td>\n",
       "      <td>1FaWBBGDL4WxTQZJEcPJbnfRWSWZRshyyd</td>\n",
       "      <td>246266223.62205</td>\n",
       "      <td>326839.43114</td>\n",
       "      <td>326057.95389</td>\n",
       "    </tr>\n",
       "    <tr>\n",
       "      <th>7</th>\n",
       "      <td>8c852e187a0541cd8ea8c93a6c728843b5f8b9c579b6fc42d51ac03ed25f18e9</td>\n",
       "      <td>453318</td>\n",
       "      <td>1LU3DtRE3XK32WxFqrnaT9k99nRgwHtLHd</td>\n",
       "      <td>1FaWBBGDL4WxTQZJEcPJbnfRWSWZRshyyd</td>\n",
       "      <td>42267029.84851</td>\n",
       "      <td>56095.92655</td>\n",
       "      <td>55961.80047</td>\n",
       "    </tr>\n",
       "  </tbody>\n",
       "</table>\n",
       "</div>"
      ],
      "text/plain": [
       "                                                   transaction_hash block_id                       input_address                      output_address amount_spread_out          fee   fee_spread\n",
       "0  8c852e187a0541cd8ea8c93a6c728843b5f8b9c579b6fc42d51ac03ed25f18e9   453318  166zajP74bcRVo7BmdeDME3mRX3Mi9e3xn  1ASaHGPN8qRuqZkpnR7d2tcndU9uHL6aGj        2503.64769   1386.37676      3.31484\n",
       "1  8c852e187a0541cd8ea8c93a6c728843b5f8b9c579b6fc42d51ac03ed25f18e9   453318  1LU3DtRE3XK32WxFqrnaT9k99nRgwHtLHd  1ASaHGPN8qRuqZkpnR7d2tcndU9uHL6aGj      635940.18056 352147.26556    841.98860\n",
       "2  8c852e187a0541cd8ea8c93a6c728843b5f8b9c579b6fc42d51ac03ed25f18e9   453318  1HVQNFf7vDpJVZk7tEzbFxnmALSezA2qPD  1ASaHGPN8qRuqZkpnR7d2tcndU9uHL6aGj      590236.94681 326839.43114    781.47725\n",
       "3  8c852e187a0541cd8ea8c93a6c728843b5f8b9c579b6fc42d51ac03ed25f18e9   453318  1LU3DtRE3XK32WxFqrnaT9k99nRgwHtLHd  1ASaHGPN8qRuqZkpnR7d2tcndU9uHL6aGj      101303.22495  56095.92655    134.12608\n",
       "4  8c852e187a0541cd8ea8c93a6c728843b5f8b9c579b6fc42d51ac03ed25f18e9   453318  166zajP74bcRVo7BmdeDME3mRX3Mi9e3xn  1FaWBBGDL4WxTQZJEcPJbnfRWSWZRshyyd     1044603.97555   1386.37676   1383.06192\n",
       "5  8c852e187a0541cd8ea8c93a6c728843b5f8b9c579b6fc42d51ac03ed25f18e9   453318  1LU3DtRE3XK32WxFqrnaT9k99nRgwHtLHd  1FaWBBGDL4WxTQZJEcPJbnfRWSWZRshyyd   265335112.55389 352147.26556 351305.27695\n",
       "6  8c852e187a0541cd8ea8c93a6c728843b5f8b9c579b6fc42d51ac03ed25f18e9   453318  1HVQNFf7vDpJVZk7tEzbFxnmALSezA2qPD  1FaWBBGDL4WxTQZJEcPJbnfRWSWZRshyyd   246266223.62205 326839.43114 326057.95389\n",
       "7  8c852e187a0541cd8ea8c93a6c728843b5f8b9c579b6fc42d51ac03ed25f18e9   453318  1LU3DtRE3XK32WxFqrnaT9k99nRgwHtLHd  1FaWBBGDL4WxTQZJEcPJbnfRWSWZRshyyd    42267029.84851  56095.92655  55961.80047"
      ]
     },
     "execution_count": 6,
     "metadata": {},
     "output_type": "execute_result"
    }
   ],
   "source": [
    "# set transaction hash as example\n",
    "txn = '8c852e187a0541cd8ea8c93a6c728843b5f8b9c579b6fc42d51ac03ed25f18e9'\n",
    "\n",
    "# get selected input and calculate shares and amounts\n",
    "inputs = merged[merged.transaction_hash == txn][['transaction_hash','coinbase_flag','input_seq','input_address','amount_satoshis_in','block_id','block_minted_time']].drop_duplicates()\n",
    "inputs['total_amount_in'] = inputs['amount_satoshis_in'].sum()\n",
    "inputs['amount_share_in'] = inputs['amount_satoshis_in'] / inputs['total_amount_in']\n",
    "\n",
    "# get selection output and calculate shares and amounts\n",
    "outputs = merged[merged.transaction_hash == txn][['transaction_hash','output_seq','output_address','amount_satoshis_out']].drop_duplicates()\n",
    "outputs['total_amount_out'] = outputs['amount_satoshis_out'].sum()\n",
    "outputs['amount_share_out'] = outputs['amount_satoshis_out'] / outputs['total_amount_out']\n",
    "\n",
    "# merge input and outputs sample into one\n",
    "full = outputs.merge(inputs, on=['transaction_hash'], how='left')\n",
    "\n",
    "# calculate ammounts and fees\n",
    "full['amount_spread_out'] = full['amount_share_in']*full['amount_satoshis_out']\n",
    "full['fee'] = full['amount_share_in']*(full['total_amount_in']-full['total_amount_out'])\n",
    "full['fee_spread'] = full['amount_share_in']*(full['total_amount_in']-full['total_amount_out'])*full['amount_share_out']\n",
    "\n",
    "full[['transaction_hash','block_id','input_address','output_address','amount_spread_out','fee','fee_spread']]"
   ]
  },
  {
   "cell_type": "markdown",
   "metadata": {},
   "source": [
    "## Read pannel data"
   ]
  },
  {
   "cell_type": "code",
   "execution_count": 7,
   "metadata": {},
   "outputs": [],
   "source": [
    "# set table format\n",
    "pannel_columns = ['txn_hash', 'input_address', 'output_address', 'amount', 'fees', 'block_index', 'block_time']\n",
    "df_pannel = pd.DataFrame(columns=pannel_columns)\n",
    "\n",
    "# set path\n",
    "pannel_path = '.\\\\gitrepos\\\\bse_clovrlabs_btc_fraud\\\\data\\\\pannel\\\\'\n",
    "\n",
    "# read all files, put them together and export to pickle\n",
    "#pannel_files = [(pannel_path+x, x) for x in os.listdir(pannel_path)]\n",
    "#df_pannel = pd.concat([pd.read_csv(f[0]) for f in pannel_files])\n",
    "#df_pannel.to_pickle('full_pannel.pkl')\n",
    "\n",
    "# read pannel pickle file\n",
    "df_pannel = pd.read_pickle('.\\\\data\\\\full_pannel.pkl')    "
   ]
  },
  {
   "cell_type": "code",
   "execution_count": 8,
   "metadata": {},
   "outputs": [
    {
     "data": {
      "text/html": [
       "<div>\n",
       "<style scoped>\n",
       "    .dataframe tbody tr th:only-of-type {\n",
       "        vertical-align: middle;\n",
       "    }\n",
       "\n",
       "    .dataframe tbody tr th {\n",
       "        vertical-align: top;\n",
       "    }\n",
       "\n",
       "    .dataframe thead th {\n",
       "        text-align: right;\n",
       "    }\n",
       "</style>\n",
       "<table border=\"1\" class=\"dataframe\">\n",
       "  <thead>\n",
       "    <tr style=\"text-align: right;\">\n",
       "      <th></th>\n",
       "      <th>txn_hash</th>\n",
       "      <th>input_address</th>\n",
       "      <th>output_address</th>\n",
       "      <th>ammount</th>\n",
       "      <th>fees</th>\n",
       "      <th>block_index</th>\n",
       "      <th>block_time</th>\n",
       "    </tr>\n",
       "  </thead>\n",
       "  <tbody>\n",
       "    <tr>\n",
       "      <th>1</th>\n",
       "      <td>8c852e187a0541cd8ea8c93a6c728843b5f8b9c579b6fc42d51ac03ed25f18e9</td>\n",
       "      <td>166zajP74bcRVo7BmdeDME3mRX3Mi9e3xn</td>\n",
       "      <td>1ASaHGPN8qRuqZkpnR7d2tcndU9uHL6aGj</td>\n",
       "      <td>2503.64769</td>\n",
       "      <td>1386.37676</td>\n",
       "      <td>453318</td>\n",
       "      <td>2017-02-16 12:05:04 +0000 UTC</td>\n",
       "    </tr>\n",
       "    <tr>\n",
       "      <th>2</th>\n",
       "      <td>8c852e187a0541cd8ea8c93a6c728843b5f8b9c579b6fc42d51ac03ed25f18e9</td>\n",
       "      <td>1LU3DtRE3XK32WxFqrnaT9k99nRgwHtLHd</td>\n",
       "      <td>1ASaHGPN8qRuqZkpnR7d2tcndU9uHL6aGj</td>\n",
       "      <td>635940.18056</td>\n",
       "      <td>352147.26556</td>\n",
       "      <td>453318</td>\n",
       "      <td>2017-02-16 12:05:04 +0000 UTC</td>\n",
       "    </tr>\n",
       "    <tr>\n",
       "      <th>3</th>\n",
       "      <td>8c852e187a0541cd8ea8c93a6c728843b5f8b9c579b6fc42d51ac03ed25f18e9</td>\n",
       "      <td>1HVQNFf7vDpJVZk7tEzbFxnmALSezA2qPD</td>\n",
       "      <td>1ASaHGPN8qRuqZkpnR7d2tcndU9uHL6aGj</td>\n",
       "      <td>590236.94681</td>\n",
       "      <td>326839.43114</td>\n",
       "      <td>453318</td>\n",
       "      <td>2017-02-16 12:05:04 +0000 UTC</td>\n",
       "    </tr>\n",
       "    <tr>\n",
       "      <th>4</th>\n",
       "      <td>8c852e187a0541cd8ea8c93a6c728843b5f8b9c579b6fc42d51ac03ed25f18e9</td>\n",
       "      <td>1LU3DtRE3XK32WxFqrnaT9k99nRgwHtLHd</td>\n",
       "      <td>1ASaHGPN8qRuqZkpnR7d2tcndU9uHL6aGj</td>\n",
       "      <td>101303.22495</td>\n",
       "      <td>56095.92655</td>\n",
       "      <td>453318</td>\n",
       "      <td>2017-02-16 12:05:04 +0000 UTC</td>\n",
       "    </tr>\n",
       "    <tr>\n",
       "      <th>5</th>\n",
       "      <td>8c852e187a0541cd8ea8c93a6c728843b5f8b9c579b6fc42d51ac03ed25f18e9</td>\n",
       "      <td>166zajP74bcRVo7BmdeDME3mRX3Mi9e3xn</td>\n",
       "      <td>1FaWBBGDL4WxTQZJEcPJbnfRWSWZRshyyd</td>\n",
       "      <td>1044603.97555</td>\n",
       "      <td>1386.37676</td>\n",
       "      <td>453318</td>\n",
       "      <td>2017-02-16 12:05:04 +0000 UTC</td>\n",
       "    </tr>\n",
       "    <tr>\n",
       "      <th>6</th>\n",
       "      <td>8c852e187a0541cd8ea8c93a6c728843b5f8b9c579b6fc42d51ac03ed25f18e9</td>\n",
       "      <td>1LU3DtRE3XK32WxFqrnaT9k99nRgwHtLHd</td>\n",
       "      <td>1FaWBBGDL4WxTQZJEcPJbnfRWSWZRshyyd</td>\n",
       "      <td>265335112.55389</td>\n",
       "      <td>352147.26556</td>\n",
       "      <td>453318</td>\n",
       "      <td>2017-02-16 12:05:04 +0000 UTC</td>\n",
       "    </tr>\n",
       "    <tr>\n",
       "      <th>7</th>\n",
       "      <td>8c852e187a0541cd8ea8c93a6c728843b5f8b9c579b6fc42d51ac03ed25f18e9</td>\n",
       "      <td>1HVQNFf7vDpJVZk7tEzbFxnmALSezA2qPD</td>\n",
       "      <td>1FaWBBGDL4WxTQZJEcPJbnfRWSWZRshyyd</td>\n",
       "      <td>246266223.62205</td>\n",
       "      <td>326839.43114</td>\n",
       "      <td>453318</td>\n",
       "      <td>2017-02-16 12:05:04 +0000 UTC</td>\n",
       "    </tr>\n",
       "    <tr>\n",
       "      <th>8</th>\n",
       "      <td>8c852e187a0541cd8ea8c93a6c728843b5f8b9c579b6fc42d51ac03ed25f18e9</td>\n",
       "      <td>1LU3DtRE3XK32WxFqrnaT9k99nRgwHtLHd</td>\n",
       "      <td>1FaWBBGDL4WxTQZJEcPJbnfRWSWZRshyyd</td>\n",
       "      <td>42267029.84851</td>\n",
       "      <td>56095.92655</td>\n",
       "      <td>453318</td>\n",
       "      <td>2017-02-16 12:05:04 +0000 UTC</td>\n",
       "    </tr>\n",
       "  </tbody>\n",
       "</table>\n",
       "</div>"
      ],
      "text/plain": [
       "                                                           txn_hash                       input_address                      output_address         ammount         fees block_index                     block_time\n",
       "1  8c852e187a0541cd8ea8c93a6c728843b5f8b9c579b6fc42d51ac03ed25f18e9  166zajP74bcRVo7BmdeDME3mRX3Mi9e3xn  1ASaHGPN8qRuqZkpnR7d2tcndU9uHL6aGj      2503.64769   1386.37676      453318  2017-02-16 12:05:04 +0000 UTC\n",
       "2  8c852e187a0541cd8ea8c93a6c728843b5f8b9c579b6fc42d51ac03ed25f18e9  1LU3DtRE3XK32WxFqrnaT9k99nRgwHtLHd  1ASaHGPN8qRuqZkpnR7d2tcndU9uHL6aGj    635940.18056 352147.26556      453318  2017-02-16 12:05:04 +0000 UTC\n",
       "3  8c852e187a0541cd8ea8c93a6c728843b5f8b9c579b6fc42d51ac03ed25f18e9  1HVQNFf7vDpJVZk7tEzbFxnmALSezA2qPD  1ASaHGPN8qRuqZkpnR7d2tcndU9uHL6aGj    590236.94681 326839.43114      453318  2017-02-16 12:05:04 +0000 UTC\n",
       "4  8c852e187a0541cd8ea8c93a6c728843b5f8b9c579b6fc42d51ac03ed25f18e9  1LU3DtRE3XK32WxFqrnaT9k99nRgwHtLHd  1ASaHGPN8qRuqZkpnR7d2tcndU9uHL6aGj    101303.22495  56095.92655      453318  2017-02-16 12:05:04 +0000 UTC\n",
       "5  8c852e187a0541cd8ea8c93a6c728843b5f8b9c579b6fc42d51ac03ed25f18e9  166zajP74bcRVo7BmdeDME3mRX3Mi9e3xn  1FaWBBGDL4WxTQZJEcPJbnfRWSWZRshyyd   1044603.97555   1386.37676      453318  2017-02-16 12:05:04 +0000 UTC\n",
       "6  8c852e187a0541cd8ea8c93a6c728843b5f8b9c579b6fc42d51ac03ed25f18e9  1LU3DtRE3XK32WxFqrnaT9k99nRgwHtLHd  1FaWBBGDL4WxTQZJEcPJbnfRWSWZRshyyd 265335112.55389 352147.26556      453318  2017-02-16 12:05:04 +0000 UTC\n",
       "7  8c852e187a0541cd8ea8c93a6c728843b5f8b9c579b6fc42d51ac03ed25f18e9  1HVQNFf7vDpJVZk7tEzbFxnmALSezA2qPD  1FaWBBGDL4WxTQZJEcPJbnfRWSWZRshyyd 246266223.62205 326839.43114      453318  2017-02-16 12:05:04 +0000 UTC\n",
       "8  8c852e187a0541cd8ea8c93a6c728843b5f8b9c579b6fc42d51ac03ed25f18e9  1LU3DtRE3XK32WxFqrnaT9k99nRgwHtLHd  1FaWBBGDL4WxTQZJEcPJbnfRWSWZRshyyd  42267029.84851  56095.92655      453318  2017-02-16 12:05:04 +0000 UTC"
      ]
     },
     "execution_count": 8,
     "metadata": {},
     "output_type": "execute_result"
    }
   ],
   "source": [
    "# example to compare versus re-created pannel\n",
    "pannel = df_pannel[df_pannel.txn_hash == txn]\n",
    "pannel"
   ]
  },
  {
   "cell_type": "markdown",
   "metadata": {},
   "source": [
    "## Clovr Data\n",
    "### Read data"
   ]
  },
  {
   "cell_type": "code",
   "execution_count": 9,
   "metadata": {},
   "outputs": [],
   "source": [
    "# Read block, txn, input and output source pkl files\n",
    "df_block = pd.read_pickle('.\\\\data\\\\full_block.pkl')\n",
    "df_transaction = pd.read_pickle('.\\\\data\\\\full_transaction.pkl')\n",
    "df_input = pd.read_pickle('.\\\\data\\\\full_input.pkl')\n",
    "df_output = pd.read_pickle('.\\\\data\\\\full_output.pkl')\n",
    "\n",
    "# Read entities\n",
    "df_entities = pd.read_json('.\\\\data\\\\entities.json')"
   ]
  },
  {
   "cell_type": "markdown",
   "metadata": {},
   "source": [
    "### Get unique address"
   ]
  },
  {
   "cell_type": "code",
   "execution_count": 10,
   "metadata": {},
   "outputs": [
    {
     "name": "stdout",
     "output_type": "stream",
     "text": [
      "4709734\n"
     ]
    }
   ],
   "source": [
    "# get unique addresses from input and output and generate csv with list\n",
    "all_address = df_input['input_address'].append(df_output['address'], ignore_index=True)\n",
    "all_address = all_address.drop_duplicates().reset_index()\n",
    "\n",
    "all_address = pd.DataFrame(all_address.iloc[:,1])\n",
    "all_address.columns = ['address']\n",
    "all_address.to_csv('.\\\\data\\\\unique_address.csv', header=None)\n",
    "print(len(all_address))"
   ]
  },
  {
   "cell_type": "markdown",
   "metadata": {},
   "source": [
    "### Get matches from labels.csv"
   ]
  },
  {
   "cell_type": "code",
   "execution_count": 11,
   "metadata": {},
   "outputs": [],
   "source": [
    "# find addresses that are labelled\n",
    "labels_reader = pd.read_csv('.\\\\data\\labels.csv', \n",
    "                          chunksize = 1000000,\n",
    "                          names=['address','id'])\n",
    "\n",
    "os.remove('.\\\\data\\\\clovr_address_matching_labels.csv')\n",
    "\n",
    "for chunk in labels_reader:\n",
    "    chunk = chunk[chunk['address'].isin(all_address['address'])]\n",
    "    chunk.to_csv('.\\\\data\\\\clovr_address_matching_labels.csv', mode='a', index=False, header=None)"
   ]
  },
  {
   "cell_type": "markdown",
   "metadata": {},
   "source": [
    "### Get unique addressess matching labels"
   ]
  },
  {
   "cell_type": "code",
   "execution_count": 12,
   "metadata": {},
   "outputs": [],
   "source": [
    "clovr_address_matching_labels = pd.read_csv('.\\\\data\\\\clovr_address_matching_labels.csv', header = None)\n",
    "clovr_address_matching_labels.columns = ['address','name']"
   ]
  },
  {
   "cell_type": "code",
   "execution_count": 13,
   "metadata": {},
   "outputs": [
    {
     "name": "stdout",
     "output_type": "stream",
     "text": [
      "434664\n",
      "434664\n"
     ]
    }
   ],
   "source": [
    "unique_clovr_address_matching_labels = clovr_address_matching_labels['address'].unique()\n",
    "print(len(clovr_address_matching_labels))\n",
    "print(len(unique_clovr_address_matching_labels))"
   ]
  },
  {
   "cell_type": "markdown",
   "metadata": {},
   "source": [
    "### Get unique names matching labels"
   ]
  },
  {
   "cell_type": "code",
   "execution_count": 14,
   "metadata": {},
   "outputs": [
    {
     "name": "stdout",
     "output_type": "stream",
     "text": [
      "434664\n",
      "61\n"
     ]
    }
   ],
   "source": [
    "unique_clovr_name_matching_labels = clovr_address_matching_labels['name'].unique()\n",
    "print(len(clovr_address_matching_labels))\n",
    "print(len(unique_clovr_name_matching_labels))"
   ]
  },
  {
   "cell_type": "markdown",
   "metadata": {},
   "source": [
    "### Get matches from labels extended"
   ]
  },
  {
   "cell_type": "code",
   "execution_count": 15,
   "metadata": {},
   "outputs": [],
   "source": [
    "# find addresses that are labelled\n",
    "labels_extended_reader = pd.read_csv('.\\\\data\\labels_extended_original.csv', \n",
    "                          chunksize = 1000000,\n",
    "                          names=['address','id', 'entity','category','user_score'])\n",
    "\n",
    "os.remove('.\\\\data\\\\clovr_address_matching_labelsext.csv')\n",
    "\n",
    "for chunk in labels_extended_reader:\n",
    "    chunk = chunk[chunk['address'].isin(all_address['address'])]\n",
    "    chunk.to_csv('.\\\\data\\\\clovr_address_matching_labelsext.csv', mode='a', index=False, header=None)"
   ]
  },
  {
   "cell_type": "code",
   "execution_count": 16,
   "metadata": {},
   "outputs": [
    {
     "name": "stdout",
     "output_type": "stream",
     "text": [
      "53895\n"
     ]
    }
   ],
   "source": [
    "clovr_address_matching_labelsext = pd.read_csv('.\\\\data\\\\clovr_address_matching_labelsext.csv', header=None, names=['address','id','name','category','user_score'])\n",
    "print(len(clovr_address_matching_labelsext))"
   ]
  },
  {
   "cell_type": "markdown",
   "metadata": {},
   "source": [
    "## Elliptic Data\n",
    "### Read data"
   ]
  },
  {
   "cell_type": "code",
   "execution_count": 17,
   "metadata": {},
   "outputs": [],
   "source": [
    "# read data\n",
    "ell_transaction = pd.read_csv('.\\\\data\\\\elliptic_dataset\\\\transactions.csv')\n",
    "ell_input = pd.read_csv('.\\\\data\\\\elliptic_dataset\\\\inputs.csv')\n",
    "ell_output = pd.read_csv('.\\\\data\\\\elliptic_dataset\\\\outputs.csv')\n",
    "ell_deanon = pd.read_csv('.\\\\data\\\\elliptic_dataset\\\\deanonymised_elliptic.csv')"
   ]
  },
  {
   "cell_type": "markdown",
   "metadata": {},
   "source": [
    "### Get unique addresses"
   ]
  },
  {
   "cell_type": "code",
   "execution_count": 18,
   "metadata": {},
   "outputs": [
    {
     "name": "stdout",
     "output_type": "stream",
     "text": [
      "823444\n"
     ]
    }
   ],
   "source": [
    "# convert from str to list and create a list of unique input/output addresses\n",
    "import ast\n",
    "ell_input['addresses'] = [ast.literal_eval(n) for n in ell_input['addresses']]\n",
    "ell_address_in = pd.DataFrame(ell_input['addresses']).explode('addresses', ignore_index = True)\n",
    "\n",
    "ell_output['addresses'] = [ast.literal_eval(n) for n in ell_output['addresses']]\n",
    "ell_address_out = pd.DataFrame(ell_output['addresses']).explode('addresses', ignore_index = True)\n",
    "\n",
    "ell_all_address = ell_address_in.append(ell_address_out, ignore_index=True)\n",
    "ell_all_address = ell_all_address.drop_duplicates().reset_index()\n",
    "ell_all_address.drop(columns=['index'], inplace=True)\n",
    "print(len(ell_all_address))"
   ]
  },
  {
   "cell_type": "markdown",
   "metadata": {},
   "source": [
    "### Get matches from labels.csv"
   ]
  },
  {
   "cell_type": "code",
   "execution_count": 19,
   "metadata": {},
   "outputs": [],
   "source": [
    "# find addresses that are labelled\n",
    "labels_reader = pd.read_csv('.\\\\data\\labels.csv', \n",
    "                          chunksize = 1000000,\n",
    "                          names=['address','id'])\n",
    "\n",
    "os.remove('.\\\\data\\\\elliptic_address_matching_labels.csv')\n",
    "\n",
    "for chunk in labels_reader:\n",
    "    chunk = chunk[chunk['address'].isin(ell_all_address['addresses'])]\n",
    "    chunk.to_csv('.\\\\data\\\\elliptic_address_matching_labels.csv', mode='a', index=False, header=None)"
   ]
  },
  {
   "cell_type": "markdown",
   "metadata": {},
   "source": [
    "### Get unique addresses matching labels"
   ]
  },
  {
   "cell_type": "code",
   "execution_count": 20,
   "metadata": {},
   "outputs": [],
   "source": [
    "elliptic_address_matching_labels = pd.read_csv('.\\\\data\\\\elliptic_address_matching_labels.csv', header = None)\n",
    "elliptic_address_matching_labels.columns= ['address','name']"
   ]
  },
  {
   "cell_type": "code",
   "execution_count": 21,
   "metadata": {},
   "outputs": [
    {
     "name": "stdout",
     "output_type": "stream",
     "text": [
      "165894\n",
      "165894\n"
     ]
    }
   ],
   "source": [
    "unique_elliptic_address_matching_labels = elliptic_address_matching_labels['address'].unique()\n",
    "print(len(elliptic_address_matching_labels))\n",
    "print(len(unique_elliptic_address_matching_labels))"
   ]
  },
  {
   "cell_type": "markdown",
   "metadata": {},
   "source": [
    "### Get unique names matching labels"
   ]
  },
  {
   "cell_type": "code",
   "execution_count": 22,
   "metadata": {},
   "outputs": [
    {
     "name": "stdout",
     "output_type": "stream",
     "text": [
      "165894\n",
      "59\n"
     ]
    }
   ],
   "source": [
    "unique_elliptic_name_matching_labels = elliptic_address_matching_labels['name'].unique()\n",
    "print(len(elliptic_address_matching_labels))\n",
    "print(len(unique_elliptic_name_matching_labels))"
   ]
  },
  {
   "cell_type": "markdown",
   "metadata": {},
   "source": [
    "### Get matches from labels extended"
   ]
  },
  {
   "cell_type": "code",
   "execution_count": 23,
   "metadata": {},
   "outputs": [],
   "source": [
    "# find addresses that are labelled\n",
    "labels_extended_reader = pd.read_csv('.\\\\data\\labels_extended_original.csv', \n",
    "                          chunksize = 1000000,\n",
    "                          names=['address','id', 'entity','category','user_score'])\n",
    "\n",
    "#os.remove('.\\\\data\\\\elliptic_address_matching_labelsext.csv')\n",
    "\n",
    "for chunk in labels_extended_reader:\n",
    "    chunk = chunk[chunk['address'].isin(ell_all_address['addresses'])]\n",
    "    chunk.to_csv('.\\\\data\\\\elliptic_address_matching_labelsext.csv', mode='a', index=False, header=None)"
   ]
  },
  {
   "cell_type": "code",
   "execution_count": 24,
   "metadata": {},
   "outputs": [
    {
     "name": "stdout",
     "output_type": "stream",
     "text": [
      "61896\n"
     ]
    }
   ],
   "source": [
    "elliptic_address_matching_labelsext = pd.read_csv('.\\\\data\\\\elliptic_address_matching_labelsext.csv', header=None, names=['address','id','name','category','user_score'])\n",
    "print(len(elliptic_address_matching_labelsext))"
   ]
  },
  {
   "cell_type": "markdown",
   "metadata": {},
   "source": [
    "## Labels comparison to Entities\n",
    "### Analyze extended labels"
   ]
  },
  {
   "cell_type": "code",
   "execution_count": 25,
   "metadata": {},
   "outputs": [],
   "source": [
    "# read original labels data\n",
    "labels_extended = pd.read_csv('.\\\\data\\\\labels_extended_original.csv', header=None, names=['address','index','name','category','user_score'])\n",
    "\n",
    "# eliminate duplicate rows\n",
    "unique_labels_extended = labels_extended.drop_duplicates()\n",
    "\n",
    "# export to csv\n",
    "unique_labels_extended[['address','index','name','category','user_score']].to_csv('c:\\\\temp\\\\unique_labels_extended.csv')"
   ]
  },
  {
   "cell_type": "code",
   "execution_count": 26,
   "metadata": {},
   "outputs": [
    {
     "name": "stdout",
     "output_type": "stream",
     "text": [
      "14565812\n",
      "14565114\n"
     ]
    }
   ],
   "source": [
    "print(len(labels_extended))\n",
    "print(len(unique_labels_extended))"
   ]
  },
  {
   "cell_type": "markdown",
   "metadata": {},
   "source": [
    "### Analyze labels"
   ]
  },
  {
   "cell_type": "code",
   "execution_count": 28,
   "metadata": {},
   "outputs": [],
   "source": [
    "labels = pd.read_pickle('.\\\\data\\\\labels.pkl')"
   ]
  },
  {
   "cell_type": "code",
   "execution_count": 29,
   "metadata": {},
   "outputs": [
    {
     "data": {
      "text/plain": [
       "839"
      ]
     },
     "execution_count": 29,
     "metadata": {},
     "output_type": "execute_result"
    }
   ],
   "source": [
    "unique_names_from_labels = labels['entity'].drop_duplicates()\n",
    "len(unique_names_from_labels)"
   ]
  },
  {
   "cell_type": "code",
   "execution_count": 30,
   "metadata": {},
   "outputs": [
    {
     "data": {
      "text/plain": [
       "78"
      ]
     },
     "execution_count": 30,
     "metadata": {},
     "output_type": "execute_result"
    }
   ],
   "source": [
    "unique_names_from_labels = pd.DataFrame(unique_names_from_labels)\n",
    "labels_not_entities = unique_names_from_labels.merge(df_entities, left_on='entity', right_on='name', how='left')\n",
    "entities_not_labels = unique_names_from_labels.merge(df_entities, left_on='entity', right_on='name', how='right')\n",
    "\n",
    "len(labels_not_entities[labels_not_entities.name.isna()])"
   ]
  },
  {
   "cell_type": "code",
   "execution_count": 31,
   "metadata": {},
   "outputs": [
    {
     "data": {
      "text/plain": [
       "922"
      ]
     },
     "execution_count": 31,
     "metadata": {},
     "output_type": "execute_result"
    }
   ],
   "source": [
    "len(entities_not_labels[entities_not_labels.entity.isna()])"
   ]
  },
  {
   "cell_type": "code",
   "execution_count": 35,
   "metadata": {},
   "outputs": [],
   "source": [
    "labels_not_entities[labels_not_entities.name.isna()].to_csv('.\\\\data\\\\labels_not_entities.csv')"
   ]
  },
  {
   "cell_type": "code",
   "execution_count": null,
   "metadata": {},
   "outputs": [],
   "source": []
  }
 ],
 "metadata": {
  "interpreter": {
   "hash": "6d9caa300933281dcb5e8a9c59ea9b10910260be8e0957179c19c1479637d761"
  },
  "kernelspec": {
   "display_name": "Python 3.9.12 64-bit (windows store)",
   "language": "python",
   "name": "python3"
  },
  "language_info": {
   "codemirror_mode": {
    "name": "ipython",
    "version": 3
   },
   "file_extension": ".py",
   "mimetype": "text/x-python",
   "name": "python",
   "nbconvert_exporter": "python",
   "pygments_lexer": "ipython3",
   "version": "3.9.12"
  },
  "orig_nbformat": 4
 },
 "nbformat": 4,
 "nbformat_minor": 2
}
